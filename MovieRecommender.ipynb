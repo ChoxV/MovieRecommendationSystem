{
 "cells": [
  {
   "cell_type": "code",
   "execution_count": 69,
   "id": "e3b838a0-c4ea-4393-86aa-2ad7a47b2bdc",
   "metadata": {},
   "outputs": [],
   "source": [
    "import pandas as pd\n",
    "import numpy as np\n",
    "import ast"
   ]
  },
  {
   "cell_type": "code",
   "execution_count": 91,
   "id": "c5a0b733-fe28-4225-b9fa-ff526580d999",
   "metadata": {},
   "outputs": [],
   "source": [
    "movies  = pd.read_csv('imdb_top_1000.csv',skip_blank_lines='True')\n"
   ]
  },
  {
   "cell_type": "code",
   "execution_count": 103,
   "id": "6b964e44-5629-4403-b05b-cf92aa70070d",
   "metadata": {},
   "outputs": [
    {
     "data": {
      "text/html": [
       "<div>\n",
       "<style scoped>\n",
       "    .dataframe tbody tr th:only-of-type {\n",
       "        vertical-align: middle;\n",
       "    }\n",
       "\n",
       "    .dataframe tbody tr th {\n",
       "        vertical-align: top;\n",
       "    }\n",
       "\n",
       "    .dataframe thead th {\n",
       "        text-align: right;\n",
       "    }\n",
       "</style>\n",
       "<table border=\"1\" class=\"dataframe\">\n",
       "  <thead>\n",
       "    <tr style=\"text-align: right;\">\n",
       "      <th></th>\n",
       "      <th>Series_Title</th>\n",
       "      <th>tags</th>\n",
       "    </tr>\n",
       "  </thead>\n",
       "  <tbody>\n",
       "    <tr>\n",
       "      <th>0</th>\n",
       "      <td>The Shawshank Redemption</td>\n",
       "      <td>[Drama, Twoimprisonedmenbondoveranumberofyears...</td>\n",
       "    </tr>\n",
       "    <tr>\n",
       "      <th>1</th>\n",
       "      <td>The Godfather</td>\n",
       "      <td>[Crime, Drama, Anorganizedcrimedynasty'sagingp...</td>\n",
       "    </tr>\n",
       "    <tr>\n",
       "      <th>2</th>\n",
       "      <td>The Dark Knight</td>\n",
       "      <td>[Action, Crime, Drama, Whenthemenaceknownasthe...</td>\n",
       "    </tr>\n",
       "    <tr>\n",
       "      <th>3</th>\n",
       "      <td>The Godfather: Part II</td>\n",
       "      <td>[Crime, Drama, TheearlylifeandcareerofVitoCorl...</td>\n",
       "    </tr>\n",
       "    <tr>\n",
       "      <th>4</th>\n",
       "      <td>12 Angry Men</td>\n",
       "      <td>[Crime, Drama, Ajuryholdoutattemptstopreventam...</td>\n",
       "    </tr>\n",
       "    <tr>\n",
       "      <th>...</th>\n",
       "      <td>...</td>\n",
       "      <td>...</td>\n",
       "    </tr>\n",
       "    <tr>\n",
       "      <th>995</th>\n",
       "      <td>Breakfast at Tiffany's</td>\n",
       "      <td>[Comedy, Drama, Romance, AyoungNewYorksocialit...</td>\n",
       "    </tr>\n",
       "    <tr>\n",
       "      <th>996</th>\n",
       "      <td>Giant</td>\n",
       "      <td>[Drama, Western, Sprawlingepiccoveringthelifeo...</td>\n",
       "    </tr>\n",
       "    <tr>\n",
       "      <th>997</th>\n",
       "      <td>From Here to Eternity</td>\n",
       "      <td>[Drama, Romance, War, InHawaiiin1941,aprivatei...</td>\n",
       "    </tr>\n",
       "    <tr>\n",
       "      <th>998</th>\n",
       "      <td>Lifeboat</td>\n",
       "      <td>[Drama, War, Severalsurvivorsofatorpedoedmerch...</td>\n",
       "    </tr>\n",
       "    <tr>\n",
       "      <th>999</th>\n",
       "      <td>The 39 Steps</td>\n",
       "      <td>[Crime, Mystery, Thriller, AmaninLondontriesto...</td>\n",
       "    </tr>\n",
       "  </tbody>\n",
       "</table>\n",
       "<p>1000 rows × 2 columns</p>\n",
       "</div>"
      ],
      "text/plain": [
       "                 Series_Title  \\\n",
       "0    The Shawshank Redemption   \n",
       "1               The Godfather   \n",
       "2             The Dark Knight   \n",
       "3      The Godfather: Part II   \n",
       "4                12 Angry Men   \n",
       "..                        ...   \n",
       "995    Breakfast at Tiffany's   \n",
       "996                     Giant   \n",
       "997     From Here to Eternity   \n",
       "998                  Lifeboat   \n",
       "999              The 39 Steps   \n",
       "\n",
       "                                                  tags  \n",
       "0    [Drama, Twoimprisonedmenbondoveranumberofyears...  \n",
       "1    [Crime, Drama, Anorganizedcrimedynasty'sagingp...  \n",
       "2    [Action, Crime, Drama, Whenthemenaceknownasthe...  \n",
       "3    [Crime, Drama, TheearlylifeandcareerofVitoCorl...  \n",
       "4    [Crime, Drama, Ajuryholdoutattemptstopreventam...  \n",
       "..                                                 ...  \n",
       "995  [Comedy, Drama, Romance, AyoungNewYorksocialit...  \n",
       "996  [Drama, Western, Sprawlingepiccoveringthelifeo...  \n",
       "997  [Drama, Romance, War, InHawaiiin1941,aprivatei...  \n",
       "998  [Drama, War, Severalsurvivorsofatorpedoedmerch...  \n",
       "999  [Crime, Mystery, Thriller, AmaninLondontriesto...  \n",
       "\n",
       "[1000 rows x 2 columns]"
      ]
     },
     "execution_count": 103,
     "metadata": {},
     "output_type": "execute_result"
    }
   ],
   "source": [
    "movies "
   ]
  },
  {
   "cell_type": "code",
   "execution_count": 93,
   "id": "73e3274e-6cd1-4d20-807b-06eaebf24215",
   "metadata": {},
   "outputs": [],
   "source": [
    "movies['Cast'] = movies[['Star1', 'Star2', 'Star3', 'Star4']].values.tolist()"
   ]
  },
  {
   "cell_type": "code",
   "execution_count": 94,
   "id": "c5d1a9b7-038c-4626-a6fd-6aef2baff2c2",
   "metadata": {},
   "outputs": [],
   "source": [
    "movies = movies.drop('Star1', axis = True)\n",
    "movies = movies.drop('Star2', axis = True)\n",
    "movies = movies.drop('Star3', axis = True)\n",
    "movies = movies.drop('Star4', axis = True)\n"
   ]
  },
  {
   "cell_type": "code",
   "execution_count": 95,
   "id": "b9d944f9-9b6c-4c89-8205-d0faaee0abd2",
   "metadata": {},
   "outputs": [],
   "source": [
    "movies = movies[['Series_Title','Overview','Genre','Cast','Director','IMDB_Rating']]"
   ]
  },
  {
   "cell_type": "code",
   "execution_count": 96,
   "id": "64d30dc5-fb59-44d3-a575-b2f047178787",
   "metadata": {},
   "outputs": [],
   "source": [
    "movies['Overview'] = movies['Overview'].apply(lambda x: x.replace(\" \",\"\"))\n",
    "movies['Director'] = movies['Director'].apply(lambda x: x.replace(\" \",\"\"))"
   ]
  },
  {
   "cell_type": "code",
   "execution_count": 97,
   "id": "58bdfffe-94ec-49c4-9061-82b65c374264",
   "metadata": {},
   "outputs": [],
   "source": [
    "movies['Genre'] = movies['Genre'].str.split(', ')\n",
    "movies['Overview'] = movies['Overview'].str.split(', ')  \n",
    "movies['Director'] = movies['Director'].str.split(', ')  \n"
   ]
  },
  {
   "cell_type": "code",
   "execution_count": 99,
   "id": "9e702599-e0ae-48ee-a509-7b8719cbefd7",
   "metadata": {},
   "outputs": [],
   "source": [
    "movies['tags'] =  movies['Genre'] + movies['Overview'] + movies['Cast'] + movies['Director']"
   ]
  },
  {
   "cell_type": "code",
   "execution_count": 102,
   "id": "9dcba978-1e01-4742-8522-6fa931f959d8",
   "metadata": {},
   "outputs": [],
   "source": [
    "movies = movies[['Series_Title','tags']]"
   ]
  },
  {
   "cell_type": "code",
   "execution_count": 104,
   "id": "d5404cca-db88-4a8d-a4b4-0c3a33090b09",
   "metadata": {},
   "outputs": [
    {
     "name": "stderr",
     "output_type": "stream",
     "text": [
      "/tmp/ipykernel_3425/45140674.py:1: SettingWithCopyWarning: \n",
      "A value is trying to be set on a copy of a slice from a DataFrame.\n",
      "Try using .loc[row_indexer,col_indexer] = value instead\n",
      "\n",
      "See the caveats in the documentation: https://pandas.pydata.org/pandas-docs/stable/user_guide/indexing.html#returning-a-view-versus-a-copy\n",
      "  movies['tags'] = movies['tags'].apply(lambda x: [item.lower() for item in x])\n"
     ]
    }
   ],
   "source": [
    "movies['tags'] = movies['tags'].apply(lambda x: [item.lower() for item in x])"
   ]
  },
  {
   "cell_type": "code",
   "execution_count": 105,
   "id": "130b7f1e-f695-4254-906c-09a8f92b74a5",
   "metadata": {},
   "outputs": [
    {
     "name": "stderr",
     "output_type": "stream",
     "text": [
      "/tmp/ipykernel_3425/2127225556.py:1: SettingWithCopyWarning: \n",
      "A value is trying to be set on a copy of a slice from a DataFrame.\n",
      "Try using .loc[row_indexer,col_indexer] = value instead\n",
      "\n",
      "See the caveats in the documentation: https://pandas.pydata.org/pandas-docs/stable/user_guide/indexing.html#returning-a-view-versus-a-copy\n",
      "  movies['tags'] = movies['tags'].apply(lambda x: \" \".join(x))\n"
     ]
    }
   ],
   "source": [
    "movies['tags'] = movies['tags'].apply(lambda x: \" \".join(x)) "
   ]
  },
  {
   "cell_type": "code",
   "execution_count": 106,
   "id": "eb10d854-9bd8-4c81-bf1c-a1cf6302db4f",
   "metadata": {},
   "outputs": [],
   "source": [
    "from sklearn.feature_extraction.text import CountVectorizer\n",
    "cv = CountVectorizer(max_features=5000,stop_words='english')"
   ]
  },
  {
   "cell_type": "code",
   "execution_count": 107,
   "id": "b445c44f-814d-40d1-8b78-b1923a67eaf0",
   "metadata": {},
   "outputs": [],
   "source": [
    "vector = cv.fit_transform(movies['tags']).toarray()"
   ]
  },
  {
   "cell_type": "code",
   "execution_count": 108,
   "id": "e8d7b8e6-372e-4fcb-bea5-42953bc17f97",
   "metadata": {},
   "outputs": [
    {
     "data": {
      "text/plain": [
       "(1000, 5000)"
      ]
     },
     "execution_count": 108,
     "metadata": {},
     "output_type": "execute_result"
    }
   ],
   "source": [
    "vector.shape"
   ]
  },
  {
   "cell_type": "code",
   "execution_count": 109,
   "id": "de14a08e-e2ea-4ea2-9a40-e64734a4f83f",
   "metadata": {},
   "outputs": [],
   "source": [
    "from sklearn.metrics.pairwise import cosine_similarity"
   ]
  },
  {
   "cell_type": "code",
   "execution_count": 110,
   "id": "f451debd-95be-4378-98df-381bd7d70634",
   "metadata": {},
   "outputs": [],
   "source": [
    "similarity = cosine_similarity(vector)"
   ]
  },
  {
   "cell_type": "code",
   "execution_count": 111,
   "id": "323e6e29-15ac-432f-bafd-8f372210ba88",
   "metadata": {},
   "outputs": [
    {
     "data": {
      "text/plain": [
       "array([[1.        , 0.09128709, 0.0877058 , ..., 0.08164966, 0.19069252,\n",
       "        0.        ],\n",
       "       [0.09128709, 1.        , 0.16012815, ..., 0.0745356 , 0.08703883,\n",
       "        0.0745356 ],\n",
       "       [0.0877058 , 0.16012815, 1.        , ..., 0.07161149, 0.0836242 ,\n",
       "        0.07161149],\n",
       "       ...,\n",
       "       [0.08164966, 0.0745356 , 0.07161149, ..., 1.        , 0.15569979,\n",
       "        0.        ],\n",
       "       [0.19069252, 0.08703883, 0.0836242 , ..., 0.15569979, 1.        ,\n",
       "        0.07784989],\n",
       "       [0.        , 0.0745356 , 0.07161149, ..., 0.        , 0.07784989,\n",
       "        1.        ]], shape=(1000, 1000))"
      ]
     },
     "execution_count": 111,
     "metadata": {},
     "output_type": "execute_result"
    }
   ],
   "source": [
    "similarity"
   ]
  },
  {
   "cell_type": "code",
   "execution_count": 114,
   "id": "82430026-6a1c-4228-a0e0-9b5f7cd1c707",
   "metadata": {},
   "outputs": [],
   "source": [
    "def recommend(movie):\n",
    "    index = movies[movies['Series_Title'] == movie].index[0]\n",
    "    distances = sorted(list(enumerate(similarity[index])),reverse=True,key = lambda x: x[1])\n",
    "    for i in distances[1:6]:\n",
    "        print(movies.iloc[i[0]].Series_Title)\n",
    "        "
   ]
  },
  {
   "cell_type": "code",
   "execution_count": 115,
   "id": "b77fc12b-2ca7-44a4-b96e-889d646ceace",
   "metadata": {},
   "outputs": [
    {
     "name": "stdout",
     "output_type": "stream",
     "text": [
      "The Dark Knight\n",
      "The Prestige\n",
      "The Dark Knight Rises\n",
      "Inception\n",
      "Letters from Iwo Jima\n"
     ]
    }
   ],
   "source": [
    "recommend('Batman Begins')"
   ]
  },
  {
   "cell_type": "code",
   "execution_count": 116,
   "id": "bc1121f1-3826-4efd-a61c-2ce7925de7bc",
   "metadata": {},
   "outputs": [
    {
     "name": "stdout",
     "output_type": "stream",
     "text": [
      "Aliens\n",
      "Ghostbusters\n",
      "Guardians of the Galaxy\n",
      "Wo hu cang long\n",
      "Guardians of the Galaxy Vol. 2\n"
     ]
    }
   ],
   "source": [
    "recommend('Avatar')"
   ]
  },
  {
   "cell_type": "code",
   "execution_count": 118,
   "id": "f3cc384b-4b3a-4359-9522-eaa46ec0fef7",
   "metadata": {},
   "outputs": [
    {
     "name": "stdout",
     "output_type": "stream",
     "text": [
      "Batman Begins\n",
      "The Revenant\n",
      "Letters from Iwo Jima\n",
      "Serenity\n",
      "Edge of Tomorrow\n"
     ]
    }
   ],
   "source": [
    "recommend('Inception')"
   ]
  },
  {
   "cell_type": "code",
   "execution_count": 119,
   "id": "6b46f1bd-a6b2-42be-97d2-bb4112c21b37",
   "metadata": {},
   "outputs": [],
   "source": [
    "\n",
    "\n",
    "import pickle\n",
    "pickle.dump(movies,open('movie_list.pkl','wb'))\n",
    "pickle.dump(similarity,open('similarity.pkl','wb'))"
   ]
  },
  {
   "cell_type": "code",
   "execution_count": null,
   "id": "ae62fce9-f824-495c-8d7f-77b442a5b6b6",
   "metadata": {},
   "outputs": [],
   "source": []
  }
 ],
 "metadata": {
  "kernelspec": {
   "display_name": "Python 3 (ipykernel)",
   "language": "python",
   "name": "python3"
  },
  "language_info": {
   "codemirror_mode": {
    "name": "ipython",
    "version": 3
   },
   "file_extension": ".py",
   "mimetype": "text/x-python",
   "name": "python",
   "nbconvert_exporter": "python",
   "pygments_lexer": "ipython3",
   "version": "3.13.3"
  }
 },
 "nbformat": 4,
 "nbformat_minor": 5
}
